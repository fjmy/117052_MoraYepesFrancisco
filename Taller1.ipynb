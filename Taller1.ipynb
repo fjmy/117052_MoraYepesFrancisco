{
 "cells": [
  {
   "cell_type": "markdown",
   "metadata": {},
   "source": [
    "## Parámetros\n",
    "\n",
    "* No convertir los números a cadenas para poderlos descomponer.\n",
    "* Cuando se pregunta por ejemplo un número entero de tres dígitos, se está refiriendo a los números enteros -999, -998, ...,  -101, -100, 100, 101, ..., 998 y 999.\n",
    "* Cuando se pregunta por ejemplo un número entero de máximo tres dígitos, se está refiriendo a los números enteros -999, -998, ..., -2, -1, 0, 1, 2, ..., 998 y 999.\n",
    "* Los números primos son los números naturales 2, 3, 5, 7, 11, 13, 17, 19, 23, ...\n",
    "* La serie de Fibonacci está dada por: 0, 1, 1, 2, 3, 5, 8, 13, 21, ...\n",
    "* Tener en cuenta que muchos de los ejercicios solicitan cálculos sobre los números enteros; no sobre los números naturales; por lo tanto, es necesario tener en cuenta los números enteros negativos, cuando sea del caso.\n",
    "* Se dice que 3, 4, 5 y 6 son los números enteros comprendidos entre el 3 y el 6.\n",
    "* Del número 349857 se puede decir que el 3 es su primer dígito, el 4 es su segundo dígito, el 5 es su penúltimo dígito y el 7 es su último dígito.\n",
    "* No utilizar el método count() de listas, a menos que se diga lo contrario.\n",
    "* Desarrollar algoritmos con el mayor grado de generalidad posible"
   ]
  },
  {
   "cell_type": "markdown",
   "metadata": {},
   "source": [
    "## Decisiones y Ciclos"
   ]
  },
  {
   "cell_type": "markdown",
   "metadata": {},
   "source": [
    "1.\tSin utilizar el comando abs, escribir un programa que calcule e imprima el valor absoluto de cualquier número (sea entero o decimal). "
   ]
  },
  {
   "cell_type": "code",
   "execution_count": null,
   "metadata": {},
   "outputs": [],
   "source": [
    "X = float(input('Numero Real: ')) #La variable que el usuario desee ingresar\n",
    "\n",
    "if (X < 0): # esta condicion me permite convertir todos los numeros negativos\n",
    "            # en positivos, al igual que lo realiza el comando abs\n",
    "    X = X*-1 #la operacion que realiza el programa para convertir los numeros\n",
    "             # negativos en positivos.\n",
    "    print(X) # la impresion de la X resultante.\n",
    "    \n",
    "else: # la parte contraria del condicional, si el numero es mayor a cero\n",
    "    print(X) # la accion a realizar es solo imprimir el valor de la X"
   ]
  },
  {
   "cell_type": "markdown",
   "metadata": {},
   "source": [
    "2.\tLeer un número entero y escribirlo en reversa. Por ejemplo, 461975 será 579164. No utilizar comandos de ordenamiento. "
   ]
  },
  {
   "cell_type": "code",
   "execution_count": null,
   "metadata": {},
   "outputs": [],
   "source": [
    "x = int(input('Digite un numero entero: ')) #La variabLe que el usurio ingresa\n",
    "\n",
    "revertir = 0 #una variable guardada en el programa que nos ayuda a guardar los \n",
    "             #los digitos del numero\n",
    "\n",
    "if(x < 0): # condicional para que todo numero sea positivo.\n",
    "    x = x*(-1) #operacion que me convierte los numeros negativos en positivos \n",
    "\n",
    "try:\n",
    "    valor = int(x) # variable dentro del ciclo que es igual a la x. reemplaza\n",
    "    while valor > 0: #ciclo que hara la extracion de los digitos del numero\n",
    "        a = valor % 10 #operacion que va quedando guardada en la variable a\n",
    "        revertir = (revertir * 10) + a #renovacion de la variable revertir\n",
    "        valor //= 10 #renovacion de la variable valor\n",
    "        print('el inverso del numero ingresado es: ', revertir) #imprime el \n",
    "                                                                #resultado         \n",
    "except ValueError:#salida si el numero no es el adecuado.\n",
    "    print('Ese numero no es valido. Intentelo de nuevo')#imprime el texto"
   ]
  },
  {
   "cell_type": "markdown",
   "metadata": {},
   "source": [
    "3.\tLeer un número entero de 3 dígitos y determinar si contiene el dígito 8"
   ]
  },
  {
   "cell_type": "code",
   "execution_count": null,
   "metadata": {},
   "outputs": [],
   "source": [
    "while True:\n",
    "    try:\n",
    "        A = int(input('Numero Entero: ')) #Variable que el usuario ingresa.\n",
    "        \n",
    "        if(-99 > A > -1000) or (99 < A < 1000): #Condicional para que el numero\n",
    "                                                #sea de 3 digitos.\n",
    "            print('El numero es de 3 digitos.') #Imprimir si el numero es de 3\n",
    "                                                #digitos.\n",
    "        else:\n",
    "            print('El numero no es de 3 digitos.') #Imprimir si el numero no es  \n",
    "                                                   #de 3 digitos \n",
    "        if(A < 0): #Condicional para convertir el numero a positivo\n",
    "            A = A*-1\n",
    "        #Variables que van a ir guardando los digitos del numero    \n",
    "        a = A//10 \n",
    "        b = a//10\n",
    "        c = a%10\n",
    "        d = A%10\n",
    "        if(b == 8) or (c == 8) or (d == 8): #Comparativo para saber si el\n",
    "                                            #contiene el digito 8\n",
    "            print('El numero contiene el digito 8.') \n",
    "        else:\n",
    "            print('El numero no contiene el digito 8.')  \n",
    "    except:\n",
    "        print('Digite el numero entero.')"
   ]
  },
  {
   "cell_type": "markdown",
   "metadata": {},
   "source": [
    "4.\tLeer un número entero positivo y determinar la suma de sus dígitos pares. Por ejemplo, en el número 124, los dígitos pares son el 2 y el 4 y su suma vale 6. "
   ]
  },
  {
   "cell_type": "code",
   "execution_count": null,
   "metadata": {},
   "outputs": [],
   "source": [
    "a = 0 #Variable en donde se van a ir guardando los digitos del numero.\n",
    "num=int(input(\"Ingrese un numero entero: \")) #Variable que ingresa el usuario.\n",
    "\n",
    "#Ciclo while que me permitira ir descomponiendo el numero para convertirlo en\n",
    "#el inverso.\n",
    "while(num>1): #Condicion del ciclo. \n",
    "    digito=int(num%10) \n",
    "    num=num/10\n",
    "    if(digito%2==0): #Condicion para que el programa identifique el final del\n",
    "                     #numero\n",
    "        a=a+digito #Variable donde se estara guardando el numero nuevo\n",
    "        print(a) #Imprime el nuevo numero, el cual es el inverso del ingresado\n",
    "                 #por el usuario.   "
   ]
  },
  {
   "cell_type": "markdown",
   "metadata": {},
   "source": [
    "5.\tLeer un número entero y determinar el número de cincos que están consecutivos en un número. Por ejemplo, en 5512355551 hay 6 cincos consecutivos. Ahora, en 234555234512 solo hay 3 cincos consecutivos. "
   ]
  },
  {
   "cell_type": "code",
   "execution_count": null,
   "metadata": {},
   "outputs": [],
   "source": [
    "nro1 = 55123555551 #Ejemplo nro1.\n",
    "nro2 = 234555234512 #Ejemplo nro2.\n",
    "nro3 = 5525515555335 #Ejemplo nro3.\n",
    "Nro = int(input(\"Ingrese un numero: \")) #Variable inicial.\n",
    "nro = str(Nro) #Convertimos este numero en una cadena.\n",
    "count = 0 #Realizamos esta variable para guardar la cantidad de 5 consecutivos que hay.\n",
    "\n",
    "band = [] #La lista vacia nos indica si hay algun problema.\n",
    "\n",
    "#Aqui realizamos el ciclo for para que nos dara por resultado la cantidad de ciclos que se repiten.\n",
    "for i in range(len(nro)-1):\n",
    "    if nro[i] == \"5\": #Comparativo, para saber si el digito del numero es 5.\n",
    "        if nro[i] == nro[i+1]: #Condicional para comparar si el numero evaluado anteriormente es igual\n",
    "                               #al siguiente.            \n",
    "            count = count + 1 \n",
    "            if i+2 < len(nro):\n",
    "                if nro[i+2] != \"5\":\n",
    "                    count += 1\n",
    "        \n",
    "print(\"En el numero \",nro,\" hay \",count,\"cincos consecutivos\") #Imprime el numero y la cantidad de 5 \n",
    "                                                               #consecutivos que existen en el nro."
   ]
  },
  {
   "cell_type": "markdown",
   "metadata": {},
   "source": [
    "6.\tLeer un número entero y determinar si la suma de sus dígitos es un número de Fibonacci"
   ]
  },
  {
   "cell_type": "code",
   "execution_count": null,
   "metadata": {},
   "outputs": [],
   "source": [
    "x = int(input('Ingrese un numero entero: ')) #Variable que el usuario ingresa.\n",
    "\n",
    "Lista = [] #Lista en donde se añadira la serie de Fibonacci.\n",
    "#Variables y Operaciones que se utilizaran para crear la serie.\n",
    "a = 0 \n",
    "b = 1\n",
    "z = b + a\n",
    "\n",
    "#Ciclo en donde se creara la serie de Fibonacci\n",
    "for z in range(x): #Solo nos interesa evaluarlo hasta que llegue a la variable\n",
    "                   #que el usuario ingresa \n",
    "    a = a + b   # Estas operaciones, me crearan la serie de Fibonacci.   \n",
    "    b = b + a\n",
    "    Lista.append(a) #Aqui estamos agregando los numeros a la lista\n",
    "    Lista.append(b)\n",
    "\n",
    "print('La lista creada es: ',Lista) #Imprime la lista de Fibonacci.\n",
    "\n",
    "if(x in Lista): #Condicional para saber si la variable pertenece a la lista de\n",
    "                #Fibonacci.\n",
    "    print('El numero pertenece a la serie fibonacci: ',x)\n",
    "else:\n",
    "    print('El numero no pertenece a la serie fibonacci: ',x)"
   ]
  },
  {
   "cell_type": "markdown",
   "metadata": {},
   "source": [
    "7.\tLeer un número entero positivo y determine si existen en el número dígitos repetidos. Reporte cuales son los dígitos repetidos. "
   ]
  },
  {
   "cell_type": "code",
   "execution_count": null,
   "metadata": {},
   "outputs": [],
   "source": [
    "Lista = [] #Listas vacias donde se añadrian los digitos del numero. \n",
    "Lista2 = [] #Digitos repetidos.\n",
    "x = int(input('Digite el numero: ')) #Variable que ingresa el usuario\n",
    "\n",
    "if x < 0: #Condiconal para indentificar si el numero es positivo o negativo.\n",
    "    print('El numero no es positivo.')\n",
    "\n",
    "a = 0 #Variable donde se iran guardando los digitos del numero\n",
    "\n",
    "#Ciclo while para crear la Lista donde iran los digitos del numero\n",
    "while x > 0:\n",
    "    b = x%10 #Operaciones para poder descomponer el numero\n",
    "    a = b\n",
    "    Lista.append(a) #Se iran añadiendo los digitos del numero a la Lista.\n",
    "    x //=10 #la operacion para renovar la variable inicial.\n",
    "    \n",
    "print('La lista creada es: ',Lista)\n",
    "\n",
    "if Lista != []: #Condicional para saber que la Lista de los digitos no esta\n",
    "                #vacia.\n",
    "    for i in Lista: #Ciclo for para crear la Lista de digitos repetidos.\n",
    "        Lista.count(i)\n",
    "        if (Lista.count(i) > 1):             \n",
    "            c = Lista2.append(i) #Se agregaria en esta variable los digitos\n",
    "                                 #repetidos\n",
    "    if Lista2 != []: #Condicional para saber que la lista2 no es vacia\n",
    "        print('Los digitos que se repiten son: ',Lista2)\n",
    "else:\n",
    "    print('El numero no contiene ningun digito que se repita.')\n",
    "        \n",
    "if Lista2 == []:\n",
    "    print('El numero no contiene ningun digito que se repita.')  "
   ]
  },
  {
   "cell_type": "markdown",
   "metadata": {},
   "source": [
    "8.\tIterar a través de los primeros cien enteros positivos, buscando los múltiplos de 3 e imprimiendo y almacenándolos en una lista hasta encontrar los primeros 15 de ellos. Una vez encontrados, continuar iterando en busca de los múltiplos de 4 y almacenarlos en otra lista. "
   ]
  },
  {
   "cell_type": "code",
   "execution_count": null,
   "metadata": {},
   "outputs": [],
   "source": [
    "mulp_3 = [] #Se crea una lista vacia para los multiplos de 3.\n",
    "mulp_4 = [] #Se crea una lista vacia para los multiplos de 4.\n",
    "\n",
    "# Se crea un ciclo for en el rango de 1 a 100 para ir extrayendo los multiplos de 3 y 4. \n",
    "for i in range(1,100): \n",
    "    if i%3 == 0 and len(mulp_3) < 15: #Condicional para saber si es un multiplo de 3 \n",
    "        mulp_3.append(i) #Se agrega a la lista el multiplo de 3\n",
    "    elif len(mulp_3) >= 15: #Al agregar los primeros 15 numeros multiplos de 3, se \n",
    "                            #empieza a extraer los multiplos de 4\n",
    "        if i%4 == 0: #Condicional para saber si es multiplo de 4\n",
    "            mulp_4.append(i) #Se agrega a la lista de multiplos de 4\n",
    "print(\"Múltiplos de 3\", mulp_3)\n",
    "print(\"Múltiplos de 4\", mulp_4)"
   ]
  },
  {
   "cell_type": "markdown",
   "metadata": {},
   "source": [
    "9.\tHacer un programa que lea las coordenadas (x1,y1,r1) y (x2,y2,r2) que corresponden al centro y al radio de dos círculos. \n",
    "    Lea un punto de coordenadas (a,b). Determina si (a,b) está contenido: \n",
    "a) dentro del círculo 1; \n",
    "b) dentro del círculo 2; \n",
    "c) dentro de ambos círculos; d) fuera de ambos círculos. Recordemos que el círculo es el lugar geométrico de los puntos del plano cuya distancia a otro punto fijo, llamado centro, es menor o igual que una cantidad constante, llamada radio. \n"
   ]
  },
  {
   "cell_type": "code",
   "execution_count": null,
   "metadata": {},
   "outputs": [],
   "source": [
    "# Se inicia con un cilco while para crear los dos circulos de una manera correta, es decir,\n",
    "#que no se haga con numeros negativos ni 0.\n",
    "\n",
    "band = 1 #Parametro para realizar el ciclo, para poder cambiar las coordenadas si se desea.\n",
    "while band != 0:\n",
    "    print()\n",
    "    print(\"El circulo 1 esta centrado sobre (x1, y1) y su radio es de r1\")\n",
    "    x1 = float(input(\"Deme la coordenada x1:\")) #Vaiable en x que el usuario ingresa.\n",
    "    y1 = float(input(\"Deme la coordenada y1:\")) # Variable en Y que el usuario ingresa.\n",
    "    r1 = float(input(\"Deme el radio del circulo r1: \")) #Radio que el usuario ingreas.\n",
    "    print()\n",
    "    \n",
    "    print(\"El circulo 2 esta centrado sobre (x2, y2) y su radio es de r2\")\n",
    "    x2 = float(input(\"Deme la coordenada x2:\")) #Vaiable en x que el usuario ingresa.\n",
    "    y2 = float(input(\"Deme la coordenada y2:\")) # Variable en Y que el usuario ingresa.\n",
    "    r2 = float(input(\"Deme el radio del circulo r2: \")) #Radio que el usuario ingreas.\n",
    "    print()\n",
    "    \n",
    "    Circulo1 = (x1, y1, r1) #Me indica la manera como quedaron creados los dos circulos.\n",
    "    Circulo2 = (x2, y2, r2) #Me indica la manera como quedaron creados los dos circulos.\n",
    "    \n",
    "    print(\"Los parámetros para el circulo 1 y circulo 2 son respectivamente:\") \n",
    "    print(\"   (x , y , r )\")\n",
    "    print(\"1)\",Circulo1)\n",
    "    print(\"2)\",Circulo2)\n",
    "    band = int(input(\"Desea Cambiar los valores?: Si = 1, No = 0 \"))\n",
    "    \n",
    "    #Ciclo para determinar si el numero ingresado esta bien.\n",
    "    while band != 0 and band != 1:\n",
    "        print(\"Valor incorrecto inténtalo de nuevo\")\n",
    "        band = int(input(\"Desea Cambiar los valores?: (Si = 1, No = 0): \"))\n",
    "\n",
    "        \n",
    "print()\n",
    "print(\"SELECCION DEL PUNTO\\n\")  \n",
    "\n",
    "#Ciclo para poder ingresar las coordenadas y determinar si el punto esta dentro del\n",
    "#circulo uno, dos o ambos.\n",
    "Band = 1 #Parametro para realizar el ciclo, para poder cambiar las coordenadas si se desea.\n",
    "while Band != 0: \n",
    "    print(\"Las coordenadas (a,b) corresponden a el punto en (x,y) respectivamente\")\n",
    "    a = int(input(\"Ingrese la coordenada a: \")) #Coordenada en x\n",
    "    b = int(input(\"Ingrese la coordenada b: \")) #Coordenada en y\n",
    "    cord = (a,b)                                  #Tupla de las Coordenadas (a,b)\n",
    "    print(\"Las coordenadas seleccionadas (a,b) son:\", cord)\n",
    "    Band = int(input(\"Desea Cambiar los valores?: Si = 1, No = 0 \"))\n",
    "    while band != 0 and band != 1:\n",
    "        print(\"Valor incorrecto inténtalo de nuevo\")\n",
    "        Band = int(input(\"Desea Cambiar los valores?: (Si = 1, No = 0): \"))\n",
    "        print()\n",
    "\n",
    "#Las operaciones para determinar la longitud del centro a las coordenadas.\n",
    "dist1 = ( (x1 - a)**2 + (y1 - b)**2 )**(1/2)\n",
    "dist2 = ( (x2 - a)**2 + (y2 - b)**2 )**(1/2)\n",
    "\n",
    "print(\"\\n RESULTADO \\n\")\n",
    "\n",
    "#Condionales para determinar si el punto (a,b) esta dentro del circulo 1,\n",
    "#circulo 2 o en ambos cirulos\n",
    "if dist1 <= r1:\n",
    "    if dist2 <= r2:\n",
    "        print(\"El punto \", cord, \"Esta dentro de los 2 círculos\")\n",
    "    else:\n",
    "        print(\"El punto \", cord, \"Está dentro del círculo 1\")\n",
    "if dist2 <= r2:\n",
    "    print(\"El punto \", cord, \"Está dentro del círculo 2\")\n",
    "    \n",
    "if dist1 > r1:\n",
    "    if dist2 > r2:\n",
    "        print(\"El punto \", cord, \"No está en ningún círculo\")"
   ]
  },
  {
   "cell_type": "markdown",
   "metadata": {},
   "source": [
    "## Cadenas"
   ]
  },
  {
   "cell_type": "markdown",
   "metadata": {},
   "source": [
    "10.\tSin utilizar el método .upper() para cadenas, escribir un programa que lea una cadena de texto y la imprima en mayúscula. Tenga en cuenta que el programa debe aceptar las letras con tilde, la ñ y la ü. "
   ]
  },
  {
   "cell_type": "code",
   "execution_count": null,
   "metadata": {},
   "outputs": [],
   "source": [
    "txt = str(input(\"Ingrese su texto:\\n\")) #Se ingresa el texto que desee el usuario.\n",
    "mayus = \"\" #se crea esta variable con una cadena vacia.\n",
    "\n",
    "#Se realiza el ciclo for para determinar si el texto esta en mayuscula o miniscula\n",
    "#este ciclo evalua cada letra de la palabra.\n",
    "for i in txt:\n",
    "    mayus += i.capitalize() #De esta manera se van guardando las letras mayusculas\n",
    "                            #en la variable mayus\n",
    "print(\"Su texto en mayúscula es:\\n\",mayus)"
   ]
  },
  {
   "cell_type": "markdown",
   "metadata": {},
   "source": [
    "11.\tEscribir un programa que reciba una cadena de texto y reporte: \n",
    " \n",
    "a)\tcuántas letras vocales en mayúscula se entraron;  \n",
    "b)\tcuántas letras con tilde se entraron (minúsculas y mayúsculas); \n",
    "c)\tcuántos dígitos se entraron,  \n",
    "d)\tcuántos espacios se entraron; \n",
    "e)\tcuántas palabras reservadas se entraron.  \n",
    " \n",
    "Utilizar para ello los métodos de cadenas especializados como .isupper(), .isdigit(), etc. y la palabra reservada in.  \n"
   ]
  },
  {
   "cell_type": "code",
   "execution_count": null,
   "metadata": {},
   "outputs": [],
   "source": [
    "from keyword import kwlist #Importamos de la libreria, las palabras reservadas\n",
    "                           #por el programa. \n",
    "\n",
    "txt = str(input(\"Ingrese su texto:\\n\")) #Se ingresa el texto que el usuario desea.\n",
    "vocales = (\"A\",\"E\",\"I\",\"O\",\"U\",\"Á\",\"É\",\"Í\",\"Ó\",\"Ú\") #se crea una cadena de las \n",
    "                                                    #vocales mayusculas y con tilde.\n",
    "tildes = (\"Á\",\"É\",\"Í\",\"Ó\",\"Ú\",\"á\",\"é\",\"í\",\"ó\",\"ú\") #se crea una cadena de las \n",
    "                                                   #vocales mayusculas y minusculas\n",
    "                                                   #con tilde \n",
    "\n",
    "cont = [0,0,0,0,0]   #(Vocales en mayus, letras con tílde, dígitos, Espacios, Keywords)\n",
    "\n",
    "#Ciclo for que me ira contando la cantidad de vocales, palabras propias del programa\n",
    "#las letras que se entraron con tilde, etc...\n",
    "for i in txt:\n",
    "    if i.isupper(): #Condicional para saber si la cadena esta en mayus o minus.\n",
    "        if i in vocales:#Condicional para agregar y contar las vocales que hay en el txt.\n",
    "            cont[0] += 1 #Guardar la cantidad de vocales en esta lista.\n",
    "    if i in tildes:#Condicional para agregar y contar las letras con tilde que hay en el txt.\n",
    "        cont[1] += 1 #Guardar la cantidad de vocales con tilde en esta lista.\n",
    "    if i.isdigit(): #Condicional para saber los digitos estan en la cadena de txt. \n",
    "        cont[2] += 1#Guarda la cantidad de digitos en el txt.\n",
    "    if i == \" \": #Condicional para contar la cantidad de espacios que hay en el txt.\n",
    "        cont[3] += 1 #Guarda la cantidad de espacios que hay en el txt.\n",
    "for i in kwlist: #ciclo for para determinar si el txt tiene palabras propias del programa.\n",
    "    if i in txt.split(): #Condicional para evaluar si existe una palabra propia del programa \n",
    "                         #en la cadena.\n",
    "        cont[4] +=1 #Guarda la cantidad de palabras propias del programa que hay en el txt.\n",
    "print()\n",
    "print(\"para el texto \\n\",txt)\n",
    "print(\"\\nTenemos\")\n",
    "print(\"Cantidad de Vocales mayúsculas:\",cont[0])\n",
    "print(\"Cantidad de letras con tílde\", cont[1])\n",
    "print(\"Cantidad de dígitos: \", cont[2])\n",
    "print(\"Cantidad de Espacios: \", cont[3])\n",
    "print(\"Cantidad de palabras reservadas\", cont[4])"
   ]
  },
  {
   "cell_type": "markdown",
   "metadata": {},
   "source": [
    "12.\tHacer un programa que lea dos palabras (podrían estar en mayúscula o minúscula) y determine cual está primero en el diccionario. El programa debe soportar letras con tilde, la ü y la ñ. "
   ]
  },
  {
   "cell_type": "code",
   "execution_count": null,
   "metadata": {},
   "outputs": [],
   "source": [
    "abc = 'abcdefghijklmnñopqrstuvwxyz' #Se crea una cadena del abecedario.\n",
    "reemplazar = (('á','a'),  #se realiza una variable de tuplas para reemplazar\n",
    "              ('é','e'),  #las letras mayusculas o las letras que posean tildes.\n",
    "              ('í','i'),\n",
    "              ('ó','o'),\n",
    "              ('ú','u'),\n",
    "              ('ü','u'))\n",
    "word1 = str(input(\"Ingrese la palabra 1:\")) #Palabra que ingresa el usuario.\n",
    "word2 = str(input(\"Ingrese la palabra 2:\")) #Palabra que ingresa el usuario.\n",
    "w1 = word1 #Las palabras se guardan en estas variables para poder evaluar\n",
    "w2 = word2 #las palabras. \n",
    "\n",
    "\n",
    "word1 = word1.lower() #Se convierten en minuscula, para facilitar el trabajo\n",
    "word2 = word2.lower() #y la comparacion entre ellas.\n",
    "\n",
    "#Se realiza un ciclo while para determinar si la palabra 1 es igual a la \n",
    "#palabra 2, si es asi, se deben ingresar dos palabras nuevas.\n",
    "while word1 == word2:\n",
    "    print(\"las dos palabras son lo mismo vuelve a intentarlo\")\n",
    "    word1 = str(input(\"Ingrese la palabra 1:\")) \n",
    "    word2 = str(input(\"Ingrese la palabra 2:\"))\n",
    "\n",
    "#ciclo for para reemplazar los caracteres especiales en unos mas sencillos\n",
    "#para hacer mas facil el trabajo\n",
    "for a,b in reemplazar:\n",
    "    word1 = word1.replace(a, b)#.replace(a.lower(), b.lower())\n",
    "    word2 = word2.replace(a, b)#.replace(a.lower(), b.lower())\n",
    "\n",
    "#Se crean estas variables para poder realizar el ciclo while de una manera\n",
    "#efectiva.\n",
    "band = 3\n",
    "i = 0\n",
    "l1 = -1\n",
    "l2 = -1\n",
    "\n",
    "#Se realiza este ciclo while, para ir comparando letra por letra de cada\n",
    "#una de las palabras.\n",
    "while band != 1:            \n",
    "    if l1 != l2: #Se utiliza este condicional para determinar que son diferentes.\n",
    "        band = 1\n",
    "    else:    \n",
    "        if i >= len(word1):\n",
    "            band = 1\n",
    "            l1 = 2\n",
    "            l2 = 3\n",
    "        if i >= len(word2):\n",
    "            band = 1\n",
    "            l1 = 2\n",
    "            l2 = 1\n",
    "  #Con este ciclo while revisamos una comparativa entre cada una de las letras y \n",
    "  #su posicion en el abededario, para saber cual va primero.\n",
    "    while l1 < 0 or l2 < 0:\n",
    "        for j in range(len(abc)):\n",
    "            if word1[i] == abc[j]:\n",
    "                l1 = j\n",
    "            if word2[i] == abc[j]:\n",
    "                l2 = j\n",
    "    i +=1\n",
    "\n",
    "#Condicional para saber cuales de las dos palabras va primero en el diccionario.    \n",
    "if l1 < l2: \n",
    "    print(\"Primera palabra:\", w1)\n",
    "    print(\"Segunda palabra:\", w2)\n",
    "elif l2 < l1:\n",
    "    print(\"Primera palabra:\", w2)\n",
    "    print(\"Segunda palabra:\", w1)\n",
    "else:\n",
    "    print(\"las dos palabras son iguales\")"
   ]
  },
  {
   "cell_type": "markdown",
   "metadata": {},
   "source": [
    "13.\tEscribir un programa que lea una cadena de texto y la imprima como un triángulo. Por ejemplo, si la cadena entrada es: \"Es una locura odiar a todas las rosas porque una te pinchó: renunciar a todos tus sueños porque uno de ellos no se realizó - El Principito\", el programa debe imprimir: "
   ]
  },
  {
   "cell_type": "code",
   "execution_count": null,
   "metadata": {},
   "outputs": [],
   "source": [
    "txt = str(input(\"Ingrese su texto: \"))\n",
    "txt = txt.replace(' ','')\n",
    "\n",
    "k = 0\n",
    "pos   = []  # posición a añadir el salto de linea \\n\n",
    "pre   = []  # posición a añadir los espacios \" \"\n",
    "ind   = []  # Cantidad de letras por renglón\n",
    "n = 0\n",
    "\n",
    "#Ciclo de llendao de las listas pre, pos, ind\n",
    "while len(txt) > n:\n",
    "    n += 2*k + 1\n",
    "    pre.append(n-(2*k + 1))\n",
    "    pos.append(n)\n",
    "    ind.append(2*k + 1)\n",
    "    k += 1\n",
    "\n",
    "\n",
    "nwtxt = \"\"  # VARIABLE DE SALIDA (Nuevo Texto)\n",
    "c = int((max(ind) + 1)/2) #máxima cantidad de letras posible en una línea\n",
    "\n",
    "\n",
    "#Ciclo para llenar la variable nwtxt\n",
    "for i in range(len(txt)):\n",
    "    if i in pre: # Este if me dice cuantos espacios poner por renglón\n",
    "        c -= 1\n",
    "        for j in range(c):\n",
    "            nwtxt += \" \"\n",
    "        if i == pre[-1]:\n",
    "            diff = pos[-1] - len(txt)\n",
    "            if diff%2 == 0:\n",
    "                for k in range(int(diff/2)):\n",
    "                    nwtxt += \" \"\n",
    "            else:\n",
    "                diff = int((diff+1)/2)\n",
    "                for k in range(diff):\n",
    "                    nwtxt += \" \"\n",
    "            \n",
    "    nwtxt += txt[i]\n",
    "    if i+1 in pos: #Este if me dice donde poner los saltos de linea '\\n'\n",
    "        nwtxt += \"\\n\"\n",
    "\n",
    "print(nwtxt)\n"
   ]
  },
  {
   "cell_type": "markdown",
   "metadata": {},
   "source": [
    "14.\tLeer una cadena de texto y organice alfabéticamente cada una de las letras que la componen, repitiendo cada una tantas veces como se encuentra. Por ejemplo, la cadena ‘tarea importante’ será ‘aaaeeimnoprrttt’. (Note que no se incluyen los espacios). "
   ]
  },
  {
   "cell_type": "code",
   "execution_count": null,
   "metadata": {},
   "outputs": [],
   "source": [
    "abc = 'abcdefghijklmnñopqrstuvwxyz' #Se crea una cadena del abecedario.\n",
    "txt = str(input(\"ingrese su texto: \")) #El texto que ingresa el usuario.\n",
    "reemplazar = (('á','a'), #se realiza una variable de tuplas para reemplazar\n",
    "              ('é','e'),  #las letras mayusculas o las letras que posean tildes.\n",
    "              ('é','e'),\n",
    "              ('í','i'),\n",
    "              ('ó','o'),\n",
    "              ('ú','u'),\n",
    "              ('ü','u'))\n",
    "\n",
    "#Ciclo for para ir reemplazando los caracteres especiales con los mas\n",
    "#simples para realizar mas facil el programa.\n",
    "for a,b in reemplazar:\n",
    "    txt = txt.replace(a, b) \n",
    "txt = txt.replace(' ','') #Guarda los caracteres modificados en el texto.\n",
    "\n",
    "nwtxt = \"\" #Se crea una cadena vacia.\n",
    "\n",
    "#Se crea un ciclo for para ir ordenando las letras que tiene el texto en orden \n",
    "#alfabetico\n",
    "for i in abc:\n",
    "    for j in range(len(txt)):\n",
    "        if i == txt[j]:\n",
    "            nwtxt += i #En la variable de cadena vacia se van guardando los \n",
    "                       #nuevos datos.\n",
    "print(\"RESULTADO: \\n\", nwtxt)"
   ]
  },
  {
   "cell_type": "markdown",
   "metadata": {},
   "source": [
    "## Listas"
   ]
  },
  {
   "cell_type": "markdown",
   "metadata": {},
   "source": [
    "15.\tLeer una lista de números enteros y enumerar cuantos elementos se repiten exactamente dos veces. Utilizar para tal fin el método count() de listas. "
   ]
  },
  {
   "cell_type": "code",
   "execution_count": null,
   "metadata": {},
   "outputs": [],
   "source": [
    "n = str(input(\"ingrese su lista de numeros, separelos con una coma ejemplo 1,23,4 --> [1,23,4]: \"))\n",
    "#Variable que ingresa el Usuario.\n",
    "\n",
    "lista = n.split(\",\") #Se crea esta variable para guardar la lista modificada.\n",
    "\n",
    "#Ciclo para convertir cada dato de la lista que esta en cadena, en un numero entero.\n",
    "for i in range(len(lista)):\n",
    "    lista[i] = int(lista[i]) #en esta variable se guardara la nueva lista.\n",
    "\n",
    "print(\"Su lista es:\",lista)\n",
    "\n",
    "rep = [] # Lista en donde se guardara la cantidad de elementos que se repiten 2 veces. \n",
    "\n",
    "#Ciclo for para determinar si el elemento de la lista se repite ,dos veces exactas.\n",
    "for i in range(min(lista), max(lista)+1):\n",
    "    if lista.count(i) == 2:#Condicional que me indica que el digito que repite exactamente 2 veces.\n",
    "        rep.append(i)\n",
    "print(\"numeros que se repiten 2 veces:\",rep)"
   ]
  }
 ],
 "metadata": {
  "kernelspec": {
   "display_name": "Python 3",
   "language": "python",
   "name": "python3"
  },
  "language_info": {
   "codemirror_mode": {
    "name": "ipython",
    "version": 3
   },
   "file_extension": ".py",
   "mimetype": "text/x-python",
   "name": "python",
   "nbconvert_exporter": "python",
   "pygments_lexer": "ipython3",
   "version": "3.7.3"
  }
 },
 "nbformat": 4,
 "nbformat_minor": 2
}
